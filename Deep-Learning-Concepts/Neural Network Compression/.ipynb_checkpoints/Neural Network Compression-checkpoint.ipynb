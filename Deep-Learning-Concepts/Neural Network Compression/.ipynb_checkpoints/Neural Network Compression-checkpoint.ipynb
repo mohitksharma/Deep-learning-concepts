{
 "cells": [
  {
   "cell_type": "code",
   "execution_count": null,
   "metadata": {
    "id": "iZhNOF0_9B6y"
   },
   "outputs": [],
   "source": [
    "import pandas as pd\n",
    "import numpy as np\n",
    "import random\n",
    "\n",
    "import matplotlib.pyplot as plt\n",
    "\n",
    "import tensorflow as tf\n",
    "import tensorflow.keras\n",
    "from keras.layers import Layer\n",
    "from keras.models import Sequential\n",
    "from keras.layers import Input, Dense, Flatten, Dropout, GRU, LSTM\n",
    "from keras.activations import relu, sigmoid, softmax\n",
    "from keras.initializers import GlorotUniform, GlorotNormal, HeUniform\n",
    "from keras.optimizers import Adam\n",
    "from keras.losses import categorical_crossentropy, binary_crossentropy\n",
    "from keras.models import Model\n",
    "from keras.datasets import mnist\n",
    "from keras.src.models.cloning import clone_and_build_model"
   ]
  },
  {
   "cell_type": "code",
   "execution_count": null,
   "metadata": {
    "colab": {
     "base_uri": "https://localhost:8080/"
    },
    "id": "7HRcW9V7FBTv",
    "outputId": "4487187e-c326-400e-eb7a-9beab862fe67"
   },
   "outputs": [
    {
     "name": "stdout",
     "output_type": "stream",
     "text": [
      "Drive already mounted at /content/drive; to attempt to forcibly remount, call drive.mount(\"/content/drive\", force_remount=True).\n"
     ]
    }
   ],
   "source": [
    "from google.colab import drive\n",
    "drive.mount('/content/drive')"
   ]
  },
  {
   "cell_type": "code",
   "execution_count": null,
   "metadata": {
    "id": "fE0Prsf69XYx"
   },
   "outputs": [],
   "source": [
    "(X_train, y_train), (X_test, y_test) = mnist.load_data()"
   ]
  },
  {
   "cell_type": "code",
   "execution_count": null,
   "metadata": {
    "colab": {
     "base_uri": "https://localhost:8080/"
    },
    "id": "aFuChieI9s7d",
    "outputId": "781683e8-33c7-4491-f644-6fba41ae54bc"
   },
   "outputs": [
    {
     "name": "stdout",
     "output_type": "stream",
     "text": [
      "Shape of X_train is (60000, 28, 28)\n",
      "Shape of X_test is (10000, 28, 28)\n"
     ]
    }
   ],
   "source": [
    "print(f'Shape of X_train is {X_train.shape}\\nShape of X_test is {X_test.shape}')"
   ]
  },
  {
   "cell_type": "code",
   "execution_count": null,
   "metadata": {
    "id": "IqPGG2DHDsS8"
   },
   "outputs": [],
   "source": [
    "from keras.src.utils.np_utils import to_categorical\n",
    "X_train = X_train/255.0\n",
    "X_test = X_test/255.0\n",
    "\n",
    "X_train = X_train.reshape(X_train.shape[0], 28, 28, 1)\n",
    "X_test = X_test.reshape(X_test.shape[0], 28, 28, 1)\n",
    "\n",
    "y_train = to_categorical(y_train)\n",
    "y_test = to_categorical(y_test)"
   ]
  },
  {
   "cell_type": "markdown",
   "metadata": {
    "id": "I2zFvmzd-BoX"
   },
   "source": [
    "# Network Compression Using SVD"
   ]
  },
  {
   "cell_type": "markdown",
   "metadata": {
    "id": "FJKeE3Zm-K3X"
   },
   "source": [
    "## Baseline MNIST Classifier"
   ]
  },
  {
   "cell_type": "markdown",
   "metadata": {
    "id": "CJFQ3gqQZbf6"
   },
   "source": [
    "### Glorot Uniform"
   ]
  },
  {
   "cell_type": "code",
   "execution_count": null,
   "metadata": {
    "id": "vAXDB9EO9y9c"
   },
   "outputs": [],
   "source": [
    "def create_model(initializer):\n",
    "  model = Sequential()\n",
    "  model.add(Flatten(input_shape=[28,28]))\n",
    "  for _ in range(0, 5):\n",
    "    model.add(Dense(1024, relu, initializer))\n",
    "  model.add(Dense(10, softmax, initializer))\n",
    "  return model"
   ]
  },
  {
   "cell_type": "code",
   "execution_count": null,
   "metadata": {
    "colab": {
     "base_uri": "https://localhost:8080/"
    },
    "id": "sB7qz0eBDarj",
    "outputId": "6056b93d-9449-4ed9-c2eb-b5b397279aea"
   },
   "outputs": [
    {
     "name": "stdout",
     "output_type": "stream",
     "text": [
      "Epoch 1/18\n",
      "469/469 [==============================] - 71s 148ms/step - loss: 0.2267 - accuracy: 0.9319\n",
      "Epoch 2/18\n",
      "469/469 [==============================] - 75s 160ms/step - loss: 0.0990 - accuracy: 0.9717\n",
      "Epoch 3/18\n",
      "469/469 [==============================] - 69s 146ms/step - loss: 0.0723 - accuracy: 0.9798\n",
      "Epoch 4/18\n",
      "469/469 [==============================] - 70s 149ms/step - loss: 0.0586 - accuracy: 0.9837\n",
      "Epoch 5/18\n",
      "469/469 [==============================] - 71s 151ms/step - loss: 0.0451 - accuracy: 0.9873\n",
      "Epoch 6/18\n",
      "469/469 [==============================] - 69s 147ms/step - loss: 0.0459 - accuracy: 0.9872\n",
      "Epoch 7/18\n",
      "469/469 [==============================] - 67s 144ms/step - loss: 0.0325 - accuracy: 0.9910\n",
      "Epoch 8/18\n",
      "469/469 [==============================] - 76s 161ms/step - loss: 0.0329 - accuracy: 0.9912\n",
      "Epoch 9/18\n",
      "469/469 [==============================] - 94s 200ms/step - loss: 0.0327 - accuracy: 0.9916\n",
      "Epoch 10/18\n",
      "469/469 [==============================] - 70s 149ms/step - loss: 0.0287 - accuracy: 0.9922\n",
      "Epoch 11/18\n",
      "469/469 [==============================] - 75s 159ms/step - loss: 0.0267 - accuracy: 0.9930\n",
      "Epoch 12/18\n",
      "469/469 [==============================] - 71s 152ms/step - loss: 0.0215 - accuracy: 0.9944\n",
      "Epoch 13/18\n",
      "469/469 [==============================] - 73s 155ms/step - loss: 0.0219 - accuracy: 0.9942\n",
      "Epoch 14/18\n",
      "469/469 [==============================] - 69s 147ms/step - loss: 0.0237 - accuracy: 0.9939\n",
      "Epoch 15/18\n",
      "469/469 [==============================] - 80s 171ms/step - loss: 0.0158 - accuracy: 0.9957\n",
      "Epoch 16/18\n",
      "469/469 [==============================] - 69s 147ms/step - loss: 0.0166 - accuracy: 0.9961\n",
      "Epoch 17/18\n",
      "469/469 [==============================] - 71s 152ms/step - loss: 0.0164 - accuracy: 0.9956\n",
      "Epoch 18/18\n",
      "469/469 [==============================] - 72s 153ms/step - loss: 0.0167 - accuracy: 0.9961\n"
     ]
    }
   ],
   "source": [
    "baseline_mnist_classifier = create_model(GlorotUniform())\n",
    "\n",
    "baseline_mnist_classifier.compile(optimizer=Adam(),\n",
    "                                  loss=categorical_crossentropy,\n",
    "                                  metrics=['accuracy']\n",
    "                                  )\n",
    "\n",
    "baseline_mnist_classifier_history = baseline_mnist_classifier.fit(X_train,\n",
    "                                                                  y_train,\n",
    "                                                                  epochs=18,\n",
    "                                                                  batch_size=128\n",
    "                                                                  )"
   ]
  },
  {
   "cell_type": "code",
   "execution_count": null,
   "metadata": {
    "colab": {
     "base_uri": "https://localhost:8080/"
    },
    "id": "PyC6uGetOTxL",
    "outputId": "502ceb97-b305-4f18-b88f-c0c8263023ce"
   },
   "outputs": [
    {
     "name": "stdout",
     "output_type": "stream",
     "text": [
      "Model: \"sequential_67\"\n",
      "_________________________________________________________________\n",
      " Layer (type)                Output Shape              Param #   \n",
      "=================================================================\n",
      " flatten_68 (Flatten)        (None, 784)               0         \n",
      "                                                                 \n",
      " dense_53 (Dense)            (None, 1024)              803840    \n",
      "                                                                 \n",
      " dense_54 (Dense)            (None, 1024)              1049600   \n",
      "                                                                 \n",
      " dense_55 (Dense)            (None, 1024)              1049600   \n",
      "                                                                 \n",
      " dense_56 (Dense)            (None, 1024)              1049600   \n",
      "                                                                 \n",
      " dense_57 (Dense)            (None, 1024)              1049600   \n",
      "                                                                 \n",
      " dense_58 (Dense)            (None, 10)                10250     \n",
      "                                                                 \n",
      "=================================================================\n",
      "Total params: 5012490 (19.12 MB)\n",
      "Trainable params: 5012490 (19.12 MB)\n",
      "Non-trainable params: 0 (0.00 Byte)\n",
      "_________________________________________________________________\n"
     ]
    }
   ],
   "source": [
    "baseline_mnist_classifier.summary()"
   ]
  },
  {
   "cell_type": "code",
   "execution_count": null,
   "metadata": {
    "colab": {
     "base_uri": "https://localhost:8080/"
    },
    "id": "0__7OoJnBkOZ",
    "outputId": "a0901765-20e7-45cf-c619-e9849045aa8b"
   },
   "outputs": [
    {
     "name": "stdout",
     "output_type": "stream",
     "text": [
      "313/313 [==============================] - 4s 13ms/step - loss: 0.0961 - accuracy: 0.9830\n",
      "Baseline models test accuracy is: 98.3%\n"
     ]
    }
   ],
   "source": [
    "accuracy = baseline_mnist_classifier.evaluate(X_test, y_test)[1]\n",
    "print(f'Baseline models test accuracy is: {round(accuracy*100, 2)}%')"
   ]
  },
  {
   "cell_type": "code",
   "execution_count": null,
   "metadata": {
    "id": "gjvSu20G9_xe"
   },
   "outputs": [],
   "source": [
    "!ls '/content/drive/MyDrive/Homework 3/'"
   ]
  },
  {
   "cell_type": "code",
   "execution_count": null,
   "metadata": {
    "id": "7e57_G7zEFIO"
   },
   "outputs": [],
   "source": [
    "baseline_mnist_classifier.save('/content/drive/MyDrive/Homework 3/baseline_model.keras')"
   ]
  },
  {
   "cell_type": "markdown",
   "metadata": {
    "id": "KleTA8-2GYq6"
   },
   "source": [
    "## Weight Compression using SVD"
   ]
  },
  {
   "cell_type": "code",
   "execution_count": null,
   "metadata": {
    "id": "UKWZA5UyGduo"
   },
   "outputs": [],
   "source": [
    "weights = list()\n",
    "biases = list()\n",
    "\n",
    "for layer in baseline_mnist_classifier.layers[1:]:\n",
    "  w, b = layer.get_weights()\n",
    "  weights.append(w)\n",
    "  biases.append(b)"
   ]
  },
  {
   "cell_type": "code",
   "execution_count": null,
   "metadata": {
    "colab": {
     "base_uri": "https://localhost:8080/"
    },
    "id": "WVWdrgRHKVuv",
    "outputId": "3802cf8e-5bb6-4a86-d38d-cd05583740fb"
   },
   "outputs": [
    {
     "data": {
      "text/plain": [
       "array([[-0.00780107,  0.00444356,  0.02998341, ...,  0.03186528,\n",
       "        -0.03670137,  0.02608615],\n",
       "       [ 0.03818469, -0.05256692,  0.05563425, ...,  0.05321659,\n",
       "         0.04998501, -0.03879317],\n",
       "       [-0.03949722, -0.00859875,  0.04540759, ..., -0.05694631,\n",
       "         0.02493746,  0.04904543],\n",
       "       ...,\n",
       "       [-0.01848157, -0.0199284 , -0.00906956, ...,  0.02364906,\n",
       "        -0.01166367, -0.04219998],\n",
       "       [-0.04119087, -0.00974559,  0.02842859, ...,  0.01214589,\n",
       "        -0.0318189 , -0.04056955],\n",
       "       [ 0.04549388, -0.01907917,  0.03403067, ..., -0.04267035,\n",
       "         0.02364227, -0.02381081]], dtype=float32)"
      ]
     },
     "execution_count": 104,
     "metadata": {},
     "output_type": "execute_result"
    }
   ],
   "source": [
    "weights[0]"
   ]
  },
  {
   "cell_type": "code",
   "execution_count": null,
   "metadata": {
    "id": "Ygz0zrUkKADP"
   },
   "outputs": [],
   "source": [
    "s, u, v = tf.linalg.svd(weights[0])"
   ]
  },
  {
   "cell_type": "code",
   "execution_count": null,
   "metadata": {
    "colab": {
     "base_uri": "https://localhost:8080/"
    },
    "id": "LS6twhSzH8rp",
    "outputId": "c96f396c-3e63-4707-b621-ab870eb23243"
   },
   "outputs": [
    {
     "name": "stdout",
     "output_type": "stream",
     "text": [
      "(784,)\n",
      "(784, 784)\n",
      "(1024, 784)\n"
     ]
    }
   ],
   "source": [
    "print(s.shape)\n",
    "print(u.shape)\n",
    "print(v.shape)"
   ]
  },
  {
   "cell_type": "code",
   "execution_count": null,
   "metadata": {
    "colab": {
     "base_uri": "https://localhost:8080/"
    },
    "id": "5NrTvETAKAyu",
    "outputId": "78cd1ff6-5bcc-4279-d3a1-f9f73687c2b8"
   },
   "outputs": [
    {
     "data": {
      "text/plain": [
       "TensorShape([784, 1024])"
      ]
     },
     "execution_count": 107,
     "metadata": {},
     "output_type": "execute_result"
    }
   ],
   "source": [
    "D=10\n",
    "weights_approximation = tf.matmul(u[:, :10], tf.matmul(tf.linalg.diag(s[:D]), tf.transpose(v[:, :D])))\n",
    "weights_approximation.shape"
   ]
  },
  {
   "cell_type": "code",
   "execution_count": null,
   "metadata": {
    "id": "RmHuB57EKUiV"
   },
   "outputs": [],
   "source": [
    "from collections import defaultdict\n",
    "suv_list = defaultdict(list)\n",
    "\n",
    "for weight in weights[:-1]:\n",
    "  s, u, v = tf.linalg.svd(weight)\n",
    "\n",
    "  suv_list['s'].append(s)\n",
    "  suv_list['u'].append(u)\n",
    "  suv_list['v'].append(v)"
   ]
  },
  {
   "cell_type": "code",
   "execution_count": null,
   "metadata": {
    "id": "3I2qGWWxKvy3"
   },
   "outputs": [],
   "source": [
    "def _get_suv_w_limit(limit):\n",
    "  weights_hat = list()\n",
    "  parameters = list()\n",
    "  parameter = 0\n",
    "  for i in range(0, 5):\n",
    "    s = suv_list['s'][i]\n",
    "    u = suv_list['u'][i]\n",
    "    v = suv_list['v'][i]\n",
    "\n",
    "    if(limit!=-1):\n",
    "      s_limited = s[:limit]\n",
    "      u_limited = u[:, :limit]\n",
    "      v_limited = v[:, :limit]\n",
    "    else:\n",
    "      s_limited = s[:]\n",
    "      u_limited = u[:, :]\n",
    "      v_limited = v[:, :]\n",
    "\n",
    "    weights_approximation = tf.matmul(u_limited, tf.matmul(tf.linalg.diag(s_limited), tf.transpose(v_limited)))\n",
    "    weights_hat.append(weights_approximation)\n",
    "    if(limit!=-1):\n",
    "      parameter = (u_limited.shape[0] * u_limited.shape[1]) + (v_limited.shape[0] * v_limited.shape[1]) + (s_limited.shape[0]*s_limited.shape[0]) + len(biases[i]) + parameter\n",
    "    else:\n",
    "      parameter = (u.shape[0] * u.shape[1]) + (v.shape[0] * v.shape[1]) + (u.shape[1] * v.shape[0]) + len(biases[i])  + parameter\n",
    "    parameter = parameter + len(biases[5]) + ((len(weights[5])+1)*10)\n",
    "  parameters.append(parameter)\n",
    "\n",
    "  return weights_hat, parameter"
   ]
  },
  {
   "cell_type": "code",
   "execution_count": null,
   "metadata": {
    "colab": {
     "base_uri": "https://localhost:8080/"
    },
    "id": "Og64eeRFkV8n",
    "outputId": "d8df78f4-7cc3-4b72-b031-7a95b67b18fd"
   },
   "outputs": [
    {
     "data": {
      "text/plain": [
       "<tf.Tensor: shape=(784, 1024), dtype=float32, numpy=\n",
       "array([[-0.00780103,  0.0044435 ,  0.02998335, ...,  0.03186513,\n",
       "        -0.03670137,  0.02608623],\n",
       "       [ 0.03818412, -0.05256639,  0.05563435, ...,  0.05321665,\n",
       "         0.04998507, -0.0387933 ],\n",
       "       [-0.03949737, -0.00859964,  0.04540675, ..., -0.05694627,\n",
       "         0.02493755,  0.0490455 ],\n",
       "       ...,\n",
       "       [-0.01848151, -0.01992847, -0.0090695 , ...,  0.02364916,\n",
       "        -0.01166361, -0.04219997],\n",
       "       [-0.04119098, -0.00974561,  0.02842866, ...,  0.01214588,\n",
       "        -0.03181889, -0.0405697 ],\n",
       "       [ 0.0454939 , -0.01907919,  0.03403071, ..., -0.04267034,\n",
       "         0.02364234, -0.02381084]], dtype=float32)>"
      ]
     },
     "execution_count": 39,
     "metadata": {},
     "output_type": "execute_result"
    }
   ],
   "source": [
    "weights_hat[0]"
   ]
  },
  {
   "cell_type": "code",
   "execution_count": null,
   "metadata": {
    "colab": {
     "base_uri": "https://localhost:8080/"
    },
    "id": "NM6iZiC5b1W9",
    "outputId": "0bf34619-8198-4998-b9cc-47f57e558544"
   },
   "outputs": [
    {
     "data": {
      "text/plain": [
       "array([[-0.00780107,  0.00444356,  0.02998341, ...,  0.03186528,\n",
       "        -0.03670137,  0.02608615],\n",
       "       [ 0.03818469, -0.05256692,  0.05563425, ...,  0.05321659,\n",
       "         0.04998501, -0.03879317],\n",
       "       [-0.03949722, -0.00859875,  0.04540759, ..., -0.05694631,\n",
       "         0.02493746,  0.04904543],\n",
       "       ...,\n",
       "       [-0.01848157, -0.0199284 , -0.00906956, ...,  0.02364906,\n",
       "        -0.01166367, -0.04219998],\n",
       "       [-0.04119087, -0.00974559,  0.02842859, ...,  0.01214589,\n",
       "        -0.0318189 , -0.04056955],\n",
       "       [ 0.04549388, -0.01907917,  0.03403067, ..., -0.04267035,\n",
       "         0.02364227, -0.02381081]], dtype=float32)"
      ]
     },
     "execution_count": 40,
     "metadata": {},
     "output_type": "execute_result"
    }
   ],
   "source": [
    "weights[0]"
   ]
  },
  {
   "cell_type": "code",
   "execution_count": null,
   "metadata": {
    "id": "mAQiocCw8Dru"
   },
   "outputs": [],
   "source": [
    "D_values = [10, 20, 50, 100, 200, -1]\n",
    "compressed_models = list()\n",
    "parameters = list()\n",
    "\n",
    "for D in D_values:\n",
    "  baseline_mnist_classifier_limited = clone_and_build_model(baseline_mnist_classifier)\n",
    "  baseline_mnist_classifier_limited.set_weights(baseline_mnist_classifier.get_weights())\n",
    "  weight_hat, parameter = _get_suv_w_limit(D)\n",
    "\n",
    "  for layer_weight, bias, layer in zip(weight_hat, biases, baseline_mnist_classifier_limited.layers[1:-1]):\n",
    "    layer.set_weights([layer_weight, bias])\n",
    "\n",
    "  compressed_models.append(baseline_mnist_classifier_limited)\n",
    "  parameters.append(parameter)"
   ]
  },
  {
   "cell_type": "code",
   "execution_count": null,
   "metadata": {
    "colab": {
     "base_uri": "https://localhost:8080/"
    },
    "id": "y2-tE0dU_fMg",
    "outputId": "2f266e67-0e0c-4382-aa3b-2193ea2b3d60"
   },
   "outputs": [
    {
     "name": "stdout",
     "output_type": "stream",
     "text": [
      "We have 6 compressed models\n",
      "With following parameters: 156920\n",
      "With following parameters: 258420\n",
      "With following parameters: 568920\n",
      "With following parameters: 1106420\n",
      "With following parameters: 2256420\n",
      "With following parameters: 14859620\n"
     ]
    }
   ],
   "source": [
    "print(f'We have {len(compressed_models)} compressed models')\n",
    "for parameter in parameters:\n",
    "  print(f'With following parameters: {parameter}')"
   ]
  },
  {
   "cell_type": "code",
   "execution_count": null,
   "metadata": {
    "colab": {
     "base_uri": "https://localhost:8080/"
    },
    "id": "Zbk7-iLA_8_s",
    "outputId": "38abfa6f-989c-4072-c24a-5c0d3bf19b17"
   },
   "outputs": [
    {
     "name": "stdout",
     "output_type": "stream",
     "text": [
      "313/313 [==============================] - 2s 4ms/step - loss: 1.2863 - accuracy: 0.6620\n",
      "313/313 [==============================] - 2s 4ms/step - loss: 0.2680 - accuracy: 0.9316\n",
      "313/313 [==============================] - 1s 3ms/step - loss: 0.0983 - accuracy: 0.9800\n",
      "313/313 [==============================] - 1s 3ms/step - loss: 0.0890 - accuracy: 0.9821\n",
      "313/313 [==============================] - 1s 3ms/step - loss: 0.0918 - accuracy: 0.9825\n",
      "313/313 [==============================] - 1s 3ms/step - loss: 0.0961 - accuracy: 0.9830\n"
     ]
    }
   ],
   "source": [
    "accuracies = list()\n",
    "for model in compressed_models:\n",
    "  accuracy = model.evaluate(X_test, y_test)[1]\n",
    "  accuracies.append(accuracy)"
   ]
  },
  {
   "cell_type": "code",
   "execution_count": null,
   "metadata": {
    "colab": {
     "base_uri": "https://localhost:8080/",
     "height": 472
    },
    "id": "6SmRT8-eARAY",
    "outputId": "78feb023-3a95-46e8-8961-b80fd555e10a"
   },
   "outputs": [
    {
     "data": {
      "image/png": "[encoded data removed]",
      "text/plain": [
       "<Figure size 640x480 with 1 Axes>"
      ]
     },
     "metadata": {},
     "output_type": "display_data"
    }
   ],
   "source": [
    "D_values = [10, 20, 50, 100, 200, 1024]\n",
    "x = np.linspace(min(D_values), max(D_values), len(D_values))\n",
    "plt.plot(x, accuracies, marker='x')\n",
    "plt.ylabel('Accuracy')\n",
    "plt.xlabel('D')\n",
    "plt.title('Accuracy against D values')\n",
    "plt.xticks(x, D_values)\n",
    "for i in range(len(D_values)):\n",
    "    plt.text(x[i], accuracies[i], f'{accuracies[i]*100:.2f}', ha='center', va='bottom')\n",
    "plt.show()"
   ]
  },
  {
   "cell_type": "markdown",
   "metadata": {
    "id": "ZXbRKpIWqvk1"
   },
   "source": [
    "# Network Compression Using SVD"
   ]
  },
  {
   "cell_type": "code",
   "execution_count": null,
   "metadata": {
    "id": "XdgB9LatxMwK"
   },
   "outputs": [],
   "source": [
    "from tensorflow.keras.models import load_model\n",
    "\n",
    "baseline_mnist_classifier = load_model('/content/drive/My Drive/Homework 3/baseline_model.keras')"
   ]
  },
  {
   "cell_type": "code",
   "execution_count": null,
   "metadata": {
    "id": "q0PEwoL0qm9U"
   },
   "outputs": [],
   "source": [
    "def _get_uv_w_limit(limit):\n",
    "  Us, Vs = list(), list()\n",
    "\n",
    "  for i in range(0, 5):\n",
    "    s = suv_list['s'][i]\n",
    "    u = suv_list['u'][i]\n",
    "    v = suv_list['v'][i]\n",
    "\n",
    "    if(limit!=-1):\n",
    "      s_limited = s[:limit]\n",
    "      u_limited = u[:, :limit]\n",
    "      v_limited = v[:, :limit]\n",
    "    else:\n",
    "      s_limited = s[:]\n",
    "      u_limited = u[:, :]\n",
    "      v_limited = v[:, :]\n",
    "\n",
    "    U_approximation = u_limited\n",
    "    V_approximation = tf.matmul(tf.linalg.diag(s_limited), tf.transpose(v_limited))\n",
    "    Us.append(U_approximation)\n",
    "    Vs.append(V_approximation)\n",
    "  return Us, Vs"
   ]
  },
  {
   "cell_type": "code",
   "execution_count": null,
   "metadata": {
    "id": "KcjWo4faowIf"
   },
   "outputs": [],
   "source": [
    "U_limited, V_limited = _get_uv_w_limit(20)"
   ]
  },
  {
   "cell_type": "code",
   "execution_count": null,
   "metadata": {
    "id": "lj7PX-Bao1XQ"
   },
   "outputs": [],
   "source": [
    "model = Sequential()\n",
    "model.add(Flatten(input_shape=[28, 28]))\n",
    "\n",
    "for layer_U, layer_V, bias in zip(U_limited, V_limited, biases):\n",
    "  model.add(Dense(20, kernel_initializer=tf.constant_initializer(layer_U.numpy())))\n",
    "  model.add(Dense(1024,\n",
    "                  relu,\n",
    "                  use_bias=True,\n",
    "                  kernel_initializer = tf.constant_initializer(layer_V.numpy()),\n",
    "                  bias_initializer = tf.constant_initializer(bias)\n",
    "                  )\n",
    "  )\n",
    "model.add(Dense(10, softmax))"
   ]
  },
  {
   "cell_type": "code",
   "execution_count": null,
   "metadata": {
    "id": "RwNs5W_2Kyz1"
   },
   "outputs": [],
   "source": [
    "model.compile(optimizer=Adam(0.0001),\n",
    "              loss=categorical_crossentropy,\n",
    "              metrics=['accuracy'])"
   ]
  },
  {
   "cell_type": "code",
   "execution_count": null,
   "metadata": {
    "colab": {
     "base_uri": "https://localhost:8080/"
    },
    "id": "iHm3XbjBK-gn",
    "outputId": "3d194d72-b2c7-4f76-fc2e-e30c490a67d1"
   },
   "outputs": [
    {
     "name": "stdout",
     "output_type": "stream",
     "text": [
      "Epoch 1/18\n",
      "235/235 [==============================] - 8s 6ms/step - loss: 0.0072 - accuracy: 0.9981\n",
      "Epoch 2/18\n",
      "235/235 [==============================] - 1s 6ms/step - loss: 0.0026 - accuracy: 0.9992\n",
      "Epoch 3/18\n",
      "235/235 [==============================] - 1s 6ms/step - loss: 0.0016 - accuracy: 0.9996\n",
      "Epoch 4/18\n",
      "235/235 [==============================] - 1s 6ms/step - loss: 0.0011 - accuracy: 0.9997\n",
      "Epoch 5/18\n",
      "235/235 [==============================] - 1s 6ms/step - loss: 8.1765e-04 - accuracy: 0.9997\n",
      "Epoch 6/18\n",
      "235/235 [==============================] - 2s 7ms/step - loss: 6.6308e-04 - accuracy: 0.9998\n",
      "Epoch 7/18\n",
      "235/235 [==============================] - 2s 8ms/step - loss: 4.7938e-04 - accuracy: 0.9998\n",
      "Epoch 8/18\n",
      "235/235 [==============================] - 2s 7ms/step - loss: 3.5150e-04 - accuracy: 0.9999\n",
      "Epoch 9/18\n",
      "235/235 [==============================] - 1s 6ms/step - loss: 2.7125e-04 - accuracy: 0.9999\n",
      "Epoch 10/18\n",
      "235/235 [==============================] - 1s 6ms/step - loss: 2.0125e-04 - accuracy: 0.9999\n",
      "Epoch 11/18\n",
      "235/235 [==============================] - 1s 6ms/step - loss: 1.6163e-04 - accuracy: 0.9999\n",
      "Epoch 12/18\n",
      "235/235 [==============================] - 1s 6ms/step - loss: 1.3486e-04 - accuracy: 0.9999\n",
      "Epoch 13/18\n",
      "235/235 [==============================] - 1s 6ms/step - loss: 1.2308e-04 - accuracy: 1.0000\n",
      "Epoch 14/18\n",
      "235/235 [==============================] - 1s 6ms/step - loss: 0.0022 - accuracy: 0.9995\n",
      "Epoch 15/18\n",
      "235/235 [==============================] - 2s 7ms/step - loss: 7.1619e-04 - accuracy: 0.9998\n",
      "Epoch 16/18\n",
      "235/235 [==============================] - 2s 9ms/step - loss: 3.0296e-04 - accuracy: 0.9999\n",
      "Epoch 17/18\n",
      "235/235 [==============================] - 2s 7ms/step - loss: 5.9066e-05 - accuracy: 1.0000\n",
      "Epoch 18/18\n",
      "235/235 [==============================] - 1s 6ms/step - loss: 3.1243e-05 - accuracy: 1.0000\n"
     ]
    }
   ],
   "source": [
    "history_2 = model.fit(X_train,\n",
    "                      y_train,\n",
    "                      epochs=18,\n",
    "                      batch_size=256\n",
    "                      )"
   ]
  },
  {
   "cell_type": "code",
   "execution_count": null,
   "metadata": {
    "colab": {
     "base_uri": "https://localhost:8080/"
    },
    "id": "WRqVgQAoEgiW",
    "outputId": "b0dd6a1d-3352-4a94-d0a5-4383830141cf"
   },
   "outputs": [
    {
     "name": "stdout",
     "output_type": "stream",
     "text": [
      "313/313 [==============================] - 1s 3ms/step - loss: 0.3263 - accuracy: 0.9818\n"
     ]
    }
   ],
   "source": [
    "accuracy_20 = model.evaluate(X_test, y_test)[1]"
   ]
  },
  {
   "cell_type": "code",
   "execution_count": null,
   "metadata": {
    "colab": {
     "base_uri": "https://localhost:8080/"
    },
    "id": "FnHqcvGdH11o",
    "outputId": "6f3ae0a1-c08b-4b49-9212-5be24c7b8282"
   },
   "outputs": [
    {
     "name": "stdout",
     "output_type": "stream",
     "text": [
      "Accuracy with D=20 is 98.18%\n"
     ]
    }
   ],
   "source": [
    "print(f'Accuracy with D=20 is {round(accuracy_20*100, 2)}%')"
   ]
  },
  {
   "cell_type": "markdown",
   "metadata": {
    "id": "qtyKpiZ8o1Gc"
   },
   "source": [
    "# Network Compression Using SVD"
   ]
  },
  {
   "cell_type": "code",
   "execution_count": null,
   "metadata": {
    "colab": {
     "base_uri": "https://localhost:8080/"
    },
    "id": "HFH0fhwSBBNY",
    "outputId": "247aceb4-7dfa-48cd-9abf-b3939573f043"
   },
   "outputs": [
    {
     "name": "stdout",
     "output_type": "stream",
     "text": [
      "baseline_model.keras\n"
     ]
    }
   ],
   "source": [
    "!ls '/content/drive/MyDrive/Homework 3'"
   ]
  },
  {
   "cell_type": "code",
   "execution_count": null,
   "metadata": {
    "id": "woZtMg89LGzi"
   },
   "outputs": [],
   "source": [
    "from tensorflow.keras.models import load_model\n",
    "\n",
    "baseline_mnist_classifier = load_model('/content/drive/MyDrive/Homework 3/baseline_model.keras')"
   ]
  },
  {
   "cell_type": "code",
   "execution_count": null,
   "metadata": {
    "colab": {
     "base_uri": "https://localhost:8080/",
     "height": 36
    },
    "id": "BcWYCFcCor7G",
    "outputId": "b8e3383d-1969-4657-cd6a-251b110b7df3"
   },
   "outputs": [
    {
     "data": {
      "application/vnd.google.colaboratory.intrinsic+json": {
       "type": "string"
      },
      "text/plain": [
       "'epoch_svd_model = clone_and_build_model(baseline_mnist_classifier)\\nepoch_svd_model.set_weights(baseline_mnist_classifier.get_weights())'"
      ]
     },
     "execution_count": 32,
     "metadata": {},
     "output_type": "execute_result"
    }
   ],
   "source": [
    "D = 20\n",
    "'''epoch_svd_model = clone_and_build_model(baseline_mnist_classifier)\n",
    "epoch_svd_model.set_weights(baseline_mnist_classifier.get_weights())'''"
   ]
  },
  {
   "cell_type": "code",
   "execution_count": null,
   "metadata": {
    "id": "xSwo3tiiGJFk"
   },
   "outputs": [],
   "source": [
    "def get_factorized_model(model, model2, epoch, D):\n",
    "  print(f'Computing SVD for epoch: {epoch+1}')\n",
    "  for layer, layer2 in zip(model.layers[1:-1], model2.layers[1:-1]):\n",
    "    weights, biases = layer.get_weights()\n",
    "    S, U, Vt = tf.linalg.svd(weights)\n",
    "    weights_approximation = tf.matmul(U[:, :D], tf.matmul(tf.linalg.diag(S[:D]), tf.transpose(Vt[:, :D])))\n",
    "    layer2.set_weights([weights_approximation, biases])\n",
    "  print('Model weights updated!')\n",
    "  return model2"
   ]
  },
  {
   "cell_type": "code",
   "execution_count": null,
   "metadata": {
    "id": "0zvOrsMC54_H"
   },
   "outputs": [],
   "source": [
    "optimizer = tf.keras.optimizers.Adam()"
   ]
  },
  {
   "cell_type": "code",
   "execution_count": null,
   "metadata": {
    "colab": {
     "base_uri": "https://localhost:8080/"
    },
    "id": "As2qJDji3Mzs",
    "outputId": "b468dad9-4186-4102-c31d-e59f0318b382"
   },
   "outputs": [
    {
     "name": "stdout",
     "output_type": "stream",
     "text": [
      "Computing SVD for epoch: 1\n",
      "Model weights updated!\n",
      "313/313 [==============================] - 1s 3ms/step - loss: 0.2680 - accuracy: 0.9316\n",
      "Test Accuracy: 93.16%\n",
      "Computing SVD for epoch: 2\n",
      "Model weights updated!\n",
      "313/313 [==============================] - 1s 4ms/step - loss: 0.1791 - accuracy: 0.9547\n",
      "Test Accuracy: 95.47%\n",
      "Computing SVD for epoch: 3\n",
      "Model weights updated!\n",
      "313/313 [==============================] - 1s 3ms/step - loss: 0.1690 - accuracy: 0.9547\n",
      "Test Accuracy: 95.47%\n",
      "Computing SVD for epoch: 4\n",
      "Model weights updated!\n",
      "313/313 [==============================] - 1s 4ms/step - loss: 0.1497 - accuracy: 0.9609\n",
      "Test Accuracy: 96.09%\n",
      "Computing SVD for epoch: 5\n",
      "Model weights updated!\n",
      "313/313 [==============================] - 1s 3ms/step - loss: 0.1358 - accuracy: 0.9636\n",
      "Test Accuracy: 96.36%\n",
      "Computing SVD for epoch: 6\n",
      "Model weights updated!\n",
      "313/313 [==============================] - 1s 3ms/step - loss: 0.1288 - accuracy: 0.9645\n",
      "Test Accuracy: 96.45%\n",
      "Computing SVD for epoch: 7\n",
      "Model weights updated!\n",
      "313/313 [==============================] - 1s 4ms/step - loss: 0.1268 - accuracy: 0.9659\n",
      "Test Accuracy: 96.59%\n",
      "Computing SVD for epoch: 8\n",
      "Model weights updated!\n",
      "313/313 [==============================] - 1s 3ms/step - loss: 0.1524 - accuracy: 0.9604\n",
      "Test Accuracy: 96.04%\n",
      "Computing SVD for epoch: 9\n",
      "Model weights updated!\n",
      "313/313 [==============================] - 1s 3ms/step - loss: 0.1417 - accuracy: 0.9624\n",
      "Test Accuracy: 96.24%\n",
      "Computing SVD for epoch: 10\n",
      "Model weights updated!\n",
      "313/313 [==============================] - 1s 3ms/step - loss: 0.1286 - accuracy: 0.9666\n",
      "Test Accuracy: 96.66%\n",
      "Computing SVD for epoch: 11\n",
      "Model weights updated!\n",
      "313/313 [==============================] - 1s 3ms/step - loss: 0.1180 - accuracy: 0.9699\n",
      "Test Accuracy: 96.99%\n",
      "Computing SVD for epoch: 12\n",
      "Model weights updated!\n",
      "313/313 [==============================] - 1s 4ms/step - loss: 0.1111 - accuracy: 0.9710\n",
      "Test Accuracy: 97.1%\n",
      "Computing SVD for epoch: 13\n",
      "Model weights updated!\n",
      "313/313 [==============================] - 1s 3ms/step - loss: 0.1069 - accuracy: 0.9716\n",
      "Test Accuracy: 97.16%\n",
      "Computing SVD for epoch: 14\n",
      "Model weights updated!\n",
      "313/313 [==============================] - 1s 3ms/step - loss: 0.1045 - accuracy: 0.9717\n",
      "Test Accuracy: 97.17%\n",
      "Computing SVD for epoch: 15\n",
      "Model weights updated!\n",
      "313/313 [==============================] - 1s 4ms/step - loss: 0.1066 - accuracy: 0.9712\n",
      "Test Accuracy: 97.12%\n",
      "Computing SVD for epoch: 16\n",
      "Model weights updated!\n",
      "313/313 [==============================] - 1s 3ms/step - loss: 0.1200 - accuracy: 0.9676\n",
      "Test Accuracy: 96.76%\n",
      "Computing SVD for epoch: 17\n",
      "Model weights updated!\n",
      "313/313 [==============================] - 1s 3ms/step - loss: 0.1124 - accuracy: 0.9697\n",
      "Test Accuracy: 96.97%\n",
      "Computing SVD for epoch: 18\n",
      "Model weights updated!\n",
      "313/313 [==============================] - 1s 3ms/step - loss: 0.1042 - accuracy: 0.9727\n",
      "Test Accuracy: 97.27%\n",
      "Computing SVD for epoch: 19\n",
      "Model weights updated!\n",
      "313/313 [==============================] - 1s 3ms/step - loss: 0.0993 - accuracy: 0.9746\n",
      "Test Accuracy: 97.46%\n",
      "Computing SVD for epoch: 20\n",
      "Model weights updated!\n",
      "313/313 [==============================] - 3s 8ms/step - loss: 0.0977 - accuracy: 0.9755\n",
      "Test Accuracy: 97.55%\n"
     ]
    }
   ],
   "source": [
    "model_1 = clone_and_build_model(baseline_mnist_classifier)\n",
    "model_1.set_weights(baseline_mnist_classifier.get_weights())\n",
    "\n",
    "model_2 = clone_and_build_model(baseline_mnist_classifier)\n",
    "model_2.set_weights(baseline_mnist_classifier.get_weights())\n",
    "optimizer = tf.keras.optimizers.Adam()\n",
    "for epoch in range(20):\n",
    "  model_2 = get_factorized_model(model_1, model_2, epoch, D)\n",
    "\n",
    "  with tf.GradientTape() as tape:\n",
    "    predictions = model_2(X_train)\n",
    "    loss_value = categorical_crossentropy(y_train, predictions)\n",
    "\n",
    "  gradients = tape.gradient(loss_value, model_2.trainable_variables)\n",
    "  optimizer.apply_gradients(zip(gradients, model_1.trainable_variables))\n",
    "  accuracy = model_2.evaluate(X_test, y_test)[1]\n",
    "  print(f'Test Accuracy: {round(accuracy*100, 2)}%')"
   ]
  },
  {
   "cell_type": "code",
   "execution_count": null,
   "metadata": {
    "colab": {
     "base_uri": "https://localhost:8080/"
    },
    "id": "R44XvBHGE5Jl",
    "outputId": "3429e0f4-6176-4497-efcb-8c6560022eaa"
   },
   "outputs": [
    {
     "name": "stdout",
     "output_type": "stream",
     "text": [
      "Test Accuracy: 97.55%\n"
     ]
    }
   ],
   "source": [
    "print(f'Test Accuracy: {round(accuracy*100, 2)}%')"
   ]
  },
  {
   "cell_type": "markdown",
   "metadata": {},
   "source": [
    "> The accuracy of 97.55% shows that the model works well even after compressing the weights by D = 20."
   ]
  }
 ],
 "metadata": {
  "accelerator": "GPU",
  "colab": {
   "gpuType": "V100",
   "provenance": [],
   "toc_visible": true
  },
  "kernelspec": {
   "display_name": "Python 3 (ipykernel)",
   "language": "python",
   "name": "python3"
  },
  "language_info": {
   "codemirror_mode": {
    "name": "ipython",
    "version": 3
   },
   "file_extension": ".py",
   "mimetype": "text/x-python",
   "name": "python",
   "nbconvert_exporter": "python",
   "pygments_lexer": "ipython3",
   "version": "3.9.13"
  },
  "toc": {
   "base_numbering": 1,
   "nav_menu": {},
   "number_sections": false,
   "sideBar": true,
   "skip_h1_title": false,
   "title_cell": "Table of Contents",
   "title_sidebar": "Contents",
   "toc_cell": false,
   "toc_position": {
    "height": "calc(100% - 180px)",
    "left": "10px",
    "top": "150px",
    "width": "298.222px"
   },
   "toc_section_display": true,
   "toc_window_display": true
  },
  "varInspector": {
   "cols": {
    "lenName": 16,
    "lenType": 16,
    "lenVar": 40
   },
   "kernels_config": {
    "python": {
     "delete_cmd_postfix": "",
     "delete_cmd_prefix": "del ",
     "library": "var_list.py",
     "varRefreshCmd": "print(var_dic_list())"
    },
    "r": {
     "delete_cmd_postfix": ") ",
     "delete_cmd_prefix": "rm(",
     "library": "var_list.r",
     "varRefreshCmd": "cat(var_dic_list()) "
    }
   },
   "types_to_exclude": [
    "module",
    "function",
    "builtin_function_or_method",
    "instance",
    "_Feature"
   ],
   "window_display": false
  }
 },
 "nbformat": 4,
 "nbformat_minor": 1
}
